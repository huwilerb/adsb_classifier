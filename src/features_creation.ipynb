{
 "cells": [
  {
   "cell_type": "code",
   "execution_count": 1,
   "metadata": {},
   "outputs": [],
   "source": [
    "import polars as pl \n",
    "\n",
    "from pathlib import Path \n",
    "\n",
    "from utils.settings_manager import Settings\n",
    "from utils.data_loader import DataLoader"
   ]
  },
  {
   "cell_type": "code",
   "execution_count": 2,
   "metadata": {},
   "outputs": [],
   "source": [
    "stg = Settings()"
   ]
  },
  {
   "cell_type": "markdown",
   "metadata": {},
   "source": [
    "#  Features creation and explorative data analysis\n",
    "This notebook focusses on data exploration and features creation. \n",
    "\n",
    "## Explorative data analysis\n",
    "\n",
    "### data imports "
   ]
  },
  {
   "cell_type": "code",
   "execution_count": 3,
   "metadata": {},
   "outputs": [
    {
     "name": "stdout",
     "output_type": "stream",
     "text": [
      "[PosixPath('/home/blaise/Documents/Dev/adsb_classifier/data/raw/Sample_2000_A1.parquet'), PosixPath('/home/blaise/Documents/Dev/adsb_classifier/data/raw/Sample_2000_A5.parquet'), PosixPath('/home/blaise/Documents/Dev/adsb_classifier/data/raw/Sample_2000_A2.parquet'), PosixPath('/home/blaise/Documents/Dev/adsb_classifier/data/raw/Sample_2000_A3.parquet')]\n"
     ]
    }
   ],
   "source": [
    "d_loader = DataLoader(stg.datasets[\"base_path\"])\n",
    "files = d_loader.list_files(base_name=stg.datasets[\"base_name\"], \n",
    "                            size=stg.datasets[\"size\"],\n",
    "                            suffix=stg.datasets[\"suffix\"]\n",
    "                            )\n",
    "df = d_loader.load_concat_lazy(files)\n",
    "dfs = d_loader.load_list_lazy(files)\n"
   ]
  },
  {
   "cell_type": "markdown",
   "metadata": {},
   "source": [
    "## Overview\n",
    "\n",
    "Let's first take a look to the data shape, the columns and the missing values. The columns are:\n",
    "\n",
    "- timestamp: a timestamp for the adsb message\n",
    "- hex: The icao identification of the aircraft \n",
    "- flight: the flight identification \n",
    "- alt_baro: the barometric altitude of the aircraft\n",
    "- alt_geom: the gps altitude of the aircraft\n",
    "- gs: ground speed of the aircraft \n",
    "- lat: latitude \n",
    "- lon: longitude\n",
    "- grounded: aircraft is grounded \n",
    "- category: the category of the aircraft "
   ]
  },
  {
   "cell_type": "code",
   "execution_count": 4,
   "metadata": {},
   "outputs": [
    {
     "data": {
      "text/html": [
       "<div><style>\n",
       ".dataframe > thead > tr,\n",
       ".dataframe > tbody > tr {\n",
       "  text-align: right;\n",
       "  white-space: pre-wrap;\n",
       "}\n",
       "</style>\n",
       "<small>shape: (9, 11)</small><table border=\"1\" class=\"dataframe\"><thead><tr><th>describe</th><th>timestamp</th><th>hex</th><th>flight</th><th>alt_baro</th><th>alt_geom</th><th>gs</th><th>lat</th><th>lon</th><th>grounded</th><th>category</th></tr><tr><td>str</td><td>f64</td><td>str</td><td>str</td><td>f64</td><td>f64</td><td>f64</td><td>f64</td><td>f64</td><td>f64</td><td>str</td></tr></thead><tbody><tr><td>&quot;count&quot;</td><td>1.094795e7</td><td>&quot;10947950&quot;</td><td>&quot;10947950&quot;</td><td>1.094795e7</td><td>1.094795e7</td><td>1.094795e7</td><td>1.094795e7</td><td>1.094795e7</td><td>1.094795e7</td><td>&quot;10947950&quot;</td></tr><tr><td>&quot;null_count&quot;</td><td>0.0</td><td>&quot;0&quot;</td><td>&quot;0&quot;</td><td>38059.0</td><td>1.126193e6</td><td>71169.0</td><td>69394.0</td><td>69394.0</td><td>38059.0</td><td>&quot;0&quot;</td></tr><tr><td>&quot;mean&quot;</td><td>1.6962e9</td><td>null</td><td>null</td><td>20274.799327</td><td>23465.256614</td><td>303.80994</td><td>35.72912</td><td>-38.309601</td><td>0.106108</td><td>null</td></tr><tr><td>&quot;std&quot;</td><td>23935.169752</td><td>null</td><td>null</td><td>15584.770914</td><td>15397.11864</td><td>174.347986</td><td>17.190321</td><td>76.840245</td><td>0.307976</td><td>null</td></tr><tr><td>&quot;min&quot;</td><td>1.6961e9</td><td>&quot;001c2b&quot;</td><td>&quot;        &quot;</td><td>-775.0</td><td>-3000.0</td><td>0.0</td><td>-49.66983</td><td>-173.593547</td><td>0.0</td><td>&quot;A1&quot;</td></tr><tr><td>&quot;25%&quot;</td><td>1.6961e9</td><td>null</td><td>null</td><td>3625.0</td><td>6750.0</td><td>135.6</td><td>32.995993</td><td>-94.80938</td><td>null</td><td>null</td></tr><tr><td>&quot;50%&quot;</td><td>1.6962e9</td><td>null</td><td>null</td><td>21000.0</td><td>27325.0</td><td>363.4</td><td>38.978003</td><td>-76.622295</td><td>null</td><td>null</td></tr><tr><td>&quot;75%&quot;</td><td>1.6962e9</td><td>null</td><td>null</td><td>36000.0</td><td>37800.0</td><td>456.0</td><td>44.396484</td><td>11.307747</td><td>null</td><td>null</td></tr><tr><td>&quot;max&quot;</td><td>1.6962e9</td><td>&quot;e94bc9&quot;</td><td>&quot;ZUPFM   &quot;</td><td>61600.0</td><td>87850.0</td><td>5079.6</td><td>72.142468</td><td>179.540648</td><td>1.0</td><td>&quot;A5&quot;</td></tr></tbody></table></div>"
      ],
      "text/plain": [
       "shape: (9, 11)\n",
       "┌────────────┬────────────┬──────────┬──────────┬───┬───────────┬───────────┬───────────┬──────────┐\n",
       "│ describe   ┆ timestamp  ┆ hex      ┆ flight   ┆ … ┆ lat       ┆ lon       ┆ grounded  ┆ category │\n",
       "│ ---        ┆ ---        ┆ ---      ┆ ---      ┆   ┆ ---       ┆ ---       ┆ ---       ┆ ---      │\n",
       "│ str        ┆ f64        ┆ str      ┆ str      ┆   ┆ f64       ┆ f64       ┆ f64       ┆ str      │\n",
       "╞════════════╪════════════╪══════════╪══════════╪═══╪═══════════╪═══════════╪═══════════╪══════════╡\n",
       "│ count      ┆ 1.094795e7 ┆ 10947950 ┆ 10947950 ┆ … ┆ 1.094795e ┆ 1.094795e ┆ 1.094795e ┆ 10947950 │\n",
       "│            ┆            ┆          ┆          ┆   ┆ 7         ┆ 7         ┆ 7         ┆          │\n",
       "│ null_count ┆ 0.0        ┆ 0        ┆ 0        ┆ … ┆ 69394.0   ┆ 69394.0   ┆ 38059.0   ┆ 0        │\n",
       "│ mean       ┆ 1.6962e9   ┆ null     ┆ null     ┆ … ┆ 35.72912  ┆ -38.30960 ┆ 0.106108  ┆ null     │\n",
       "│            ┆            ┆          ┆          ┆   ┆           ┆ 1         ┆           ┆          │\n",
       "│ std        ┆ 23935.1697 ┆ null     ┆ null     ┆ … ┆ 17.190321 ┆ 76.840245 ┆ 0.307976  ┆ null     │\n",
       "│            ┆ 52         ┆          ┆          ┆   ┆           ┆           ┆           ┆          │\n",
       "│ min        ┆ 1.6961e9   ┆ 001c2b   ┆          ┆ … ┆ -49.66983 ┆ -173.5935 ┆ 0.0       ┆ A1       │\n",
       "│            ┆            ┆          ┆          ┆   ┆           ┆ 47        ┆           ┆          │\n",
       "│ 25%        ┆ 1.6961e9   ┆ null     ┆ null     ┆ … ┆ 32.995993 ┆ -94.80938 ┆ null      ┆ null     │\n",
       "│ 50%        ┆ 1.6962e9   ┆ null     ┆ null     ┆ … ┆ 38.978003 ┆ -76.62229 ┆ null      ┆ null     │\n",
       "│            ┆            ┆          ┆          ┆   ┆           ┆ 5         ┆           ┆          │\n",
       "│ 75%        ┆ 1.6962e9   ┆ null     ┆ null     ┆ … ┆ 44.396484 ┆ 11.307747 ┆ null      ┆ null     │\n",
       "│ max        ┆ 1.6962e9   ┆ e94bc9   ┆ ZUPFM    ┆ … ┆ 72.142468 ┆ 179.54064 ┆ 1.0       ┆ A5       │\n",
       "│            ┆            ┆          ┆          ┆   ┆           ┆ 8         ┆           ┆          │\n",
       "└────────────┴────────────┴──────────┴──────────┴───┴───────────┴───────────┴───────────┴──────────┘"
      ]
     },
     "execution_count": 4,
     "metadata": {},
     "output_type": "execute_result"
    }
   ],
   "source": [
    "df.collect().describe()"
   ]
  },
  {
   "cell_type": "markdown",
   "metadata": {},
   "source": [
    "We have some null values for alt_baro, alt_geom, gs, lat, lon and grounded. We'll have to handle these missing values later. The number of single messages is large (>10e6 messages). However as we'll group these messages by flight and generate the features on the flights the model won't use all the messages "
   ]
  },
  {
   "cell_type": "markdown",
   "metadata": {},
   "source": [
    "### Plots and analysis"
   ]
  },
  {
   "cell_type": "code",
   "execution_count": 5,
   "metadata": {},
   "outputs": [],
   "source": [
    "from visualization.eda_plots import df_violin_plots"
   ]
  },
  {
   "cell_type": "markdown",
   "metadata": {},
   "source": [
    "First let's take a look to the columns with continuous values "
   ]
  },
  {
   "cell_type": "code",
   "execution_count": 6,
   "metadata": {},
   "outputs": [],
   "source": [
    "fig = df_violin_plots(df, \"alt_baro\", \"category\")\n",
    "fig.show()"
   ]
  },
  {
   "cell_type": "code",
   "execution_count": null,
   "metadata": {},
   "outputs": [],
   "source": [
    "fig = df_violin_plots(df, \"alt_baro\", \"category\")\n"
   ]
  },
  {
   "cell_type": "code",
   "execution_count": null,
   "metadata": {},
   "outputs": [],
   "source": []
  },
  {
   "cell_type": "code",
   "execution_count": null,
   "metadata": {},
   "outputs": [],
   "source": [
    "a"
   ]
  },
  {
   "cell_type": "code",
   "execution_count": null,
   "metadata": {},
   "outputs": [],
   "source": []
  }
 ],
 "metadata": {
  "kernelspec": {
   "display_name": ".env",
   "language": "python",
   "name": "python3"
  },
  "language_info": {
   "codemirror_mode": {
    "name": "ipython",
    "version": 3
   },
   "file_extension": ".py",
   "mimetype": "text/x-python",
   "name": "python",
   "nbconvert_exporter": "python",
   "pygments_lexer": "ipython3",
   "version": "3.10.12"
  }
 },
 "nbformat": 4,
 "nbformat_minor": 2
}
